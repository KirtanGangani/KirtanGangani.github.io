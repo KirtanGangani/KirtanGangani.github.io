{
 "cells": [
  {
   "cell_type": "markdown",
   "id": "ac068728",
   "metadata": {},
   "source": [
    "---\n",
    "title: \"Sampling From Categorical Distribution Using Uniform Distribution\"\n",
    "author: \"Kirtan Gangani\"\n",
    "date: \"July 14, 2025\" \n",
    "categories: [Statistics, Probability]\n",
    "format:\n",
    "  html:\n",
    "    toc: true\n",
    "    code-fold: false\n",
    "    code-copy: true\n",
    "jupyter: python3\n",
    "image: \"./images/random-sampling.png\"\n",
    "---"
   ]
  },
  {
   "cell_type": "markdown",
   "id": "0e5a21d7",
   "metadata": {},
   "source": [
    "# Introduction\n",
    "\n",
    "Have you ever wondered how computer programs make \"random\" choices with specific probabilities? Whether it's deciding the weather in a simulation or picking a random item from a loot table in a game, the underlying mechanism often involves sampling from a categorical distribution.\n",
    "\n",
    "A categorical distribution simply defines the probability of selecting each item from a finite set of categories. For example, if we were predicting the weather today in Gandhinagar, Gujarat, India, we might have the following (simplified) probabilities:\n",
    "\n",
    "* Sunny: 65%\n",
    "* Rainy: 35%\n",
    "* Cloudy: 10%\n",
    "\n",
    "So, how do we get a computer to make a \"random\" choice that respects these probabilities? The answer lies in the power of the uniform distribution."
   ]
  },
  {
   "cell_type": "markdown",
   "id": "ee449340",
   "metadata": {},
   "source": [
    "# Understanding the Distributions\n",
    "\n",
    "Before we dive into \"how\", let's quickly understand both the distributions involved:\n",
    "\n",
    "## Categorical distribution\n",
    "\n",
    "This describes the probabilities of a discrete random variable taking on one of a fixed set of categories (e.g., \"Sunny\", \"Cloudy\", \"Rainy\"). Each category has a specific probability, and these probabilities must sum to 1.\n",
    "\n",
    "Example:\n",
    "\n",
    "* Sunny: 0.65 probability\n",
    "* Cloudy: 0.25 probabilty\n",
    "* Rainy: 0.1 probability\n",
    "\n",
    "## Uniform distributions\n",
    "\n",
    "This is typically a continuous uniform distribution over the interval [0,1]. It means that any value between 0 and 1 is equally likely to be drawn."
   ]
  },
  {
   "cell_type": "markdown",
   "id": "41300655",
   "metadata": {},
   "source": [
    "# How does the sampling works?\n",
    "\n",
    "How do we bridge the gap between this even spread of numbers and the uneven probabilities of our categories? The key is to divide our 0-to-1 range into segments, where the size of each segment corresponds to the probability of a category. To do this, we calculate the cumulative probability for each category.\n",
    "\n",
    "## Creating the cumulative probability\n",
    "\n",
    "This is simply the running total of the probabilities. For our Gandhinagar weather example:\n",
    "\n",
    "* Sunny: 65% (Cumulative: 65%)  -> Interval: [0.00, 0.65)\n",
    "* Rainy: 25% (Cumulative: 65% + 25% = 90%) -> Interval: [0.65, 0.90)\n",
    "* Cloudy: 10% (Cumulative: 90% + 10% = 100%) -> Interval: [0.90, 1.00]\n",
    "\n",
    "## Sampling process\n",
    "\n",
    "Now, we generate a single random number between 0 and 1 from our uniform distribution. The interval in which this random number falls directly corresponds to the category we select.\n",
    "\n",
    "* If our random number is between 0.00 and 0.65 (exclusive of 0.65), we choose \"Sunny.\"\n",
    "* If it's between 0.65 and 0.90 (exclusive of 0.90), we choose \"Rainy.\"\n",
    "* If it's between 0.90 and 1.00 (inclusive), we choose \"Cloudy.\"\n",
    "\n",
    "Since every number between 0 and 1 has an equal chance of being generated, the likelihood of our random number landing in a particular interval is directly proportional to the size (probability) of that interval."
   ]
  },
  {
   "cell_type": "markdown",
   "id": "9dfea172",
   "metadata": {},
   "source": [
    "# Code\n",
    "\n",
    "Below is the Python code that combines all of these concepts. It first calculates the cumulative probabilities, then draws a single \"random\" number using random library (the uniform distribution), and finally maps that number to one of our weather samples."
   ]
  },
  {
   "cell_type": "code",
   "execution_count": 101,
   "id": "07d66199",
   "metadata": {},
   "outputs": [
    {
     "name": "stdout",
     "output_type": "stream",
     "text": [
      "Random number generated from to 1:  0.74\n",
      "Cumulative distribution of Samples: [0.65, 0.9, 1.0]\n",
      "---------------------------------------------------------------------------------\n",
      "The random number 0.74 falls between the range 0.65 to 0.9, hence Rainy is chosen\n",
      "---------------------------------------------------------------------------------\n"
     ]
    }
   ],
   "source": [
    "import random\n",
    "\n",
    "samples = ['Sunny', 'Rainy', 'Cloudy']\n",
    "prob    = [0.65,     0.25,    0.1]\n",
    "\n",
    "number, cumsum = 0, []\n",
    "\n",
    "for i in prob:\n",
    "    number+=i\n",
    "    cumsum.append(number)\n",
    "\n",
    "drawn_number = random.random()\n",
    "print(f\"Random number generated from to 1: {drawn_number: .2f}\")\n",
    "print(f\"Cumulative distribution of Samples: {cumsum}\")\n",
    "\n",
    "print('-'*81)\n",
    "\n",
    "for i, j in enumerate(cumsum):\n",
    "    if drawn_number < j:\n",
    "        print(f\"The random number{drawn_number: .2f} falls between the range {cumsum[i-1]} to {cumsum[i]}, hence {samples[i]} is chosen\")\n",
    "        break\n",
    "\n",
    "print('-'*81)\n"
   ]
  },
  {
   "cell_type": "code",
   "execution_count": null,
   "id": "74b0490f",
   "metadata": {},
   "outputs": [],
   "source": []
  }
 ],
 "metadata": {
  "kernelspec": {
   "display_name": "base",
   "language": "python",
   "name": "python3"
  },
  "language_info": {
   "codemirror_mode": {
    "name": "ipython",
    "version": 3
   },
   "file_extension": ".py",
   "mimetype": "text/x-python",
   "name": "python",
   "nbconvert_exporter": "python",
   "pygments_lexer": "ipython3",
   "version": "3.12.7"
  }
 },
 "nbformat": 4,
 "nbformat_minor": 5
}
