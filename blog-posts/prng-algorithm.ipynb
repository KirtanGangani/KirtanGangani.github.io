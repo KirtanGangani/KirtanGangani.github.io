{
 "cells": [
  {
   "cell_type": "markdown",
   "id": "f4d12bce",
   "metadata": {},
   "source": [
    "---\n",
    "title: \"PseudoRandom Number Generator (PRNG)\"\n",
    "author: \"Kirtan Gangani\"\n",
    "date: \"July 14, 2025\" \n",
    "categories: [Deterministic, Seed-based]\n",
    "format:\n",
    "  html:\n",
    "    toc: true\n",
    "    code-fold: false\n",
    "    code-copy: true\n",
    "jupyter: python3\n",
    "image: \"./images/prng.jpg\"\n",
    "---"
   ]
  },
  {
   "cell_type": "markdown",
   "id": "6d00b403",
   "metadata": {},
   "source": [
    "# What are PRNGs?\n",
    "\n",
    "A PRNG algorithm or PseudoRandom Number Generator algorithm uses mathematical formulas to produce a sequence of random numbers that approximates the properties of random numbers.\n",
    "\n",
    "While these numbers are not truly random (as they are deterministic and can be reproduced if the starting state is known), they are designed to be unpredictable and uniformly distributed, making them suitable for a wide range of applicaions."
   ]
  },
  {
   "cell_type": "markdown",
   "id": "fbcabbc6",
   "metadata": {},
   "source": [
    "# What does \"approximating the properties of random numbers\" mean?\n",
    "\n",
    "When we say a PRNG \"approximates the properties of random numbers\", it means that the numbers generated behaves like true random numbers in a statistical ways even though they aren't.\n",
    "\n",
    "Imagine you are rolling a perfectly fair 6-sided die, When you roll it just a few times (say 6 times), you likely won't get all numbers from 1 to 6 exactly once. But if you roll it thousands of times, you would observe some key properties in truly random die rolls, which are:\n",
    "\n",
    "1. **Uniform Distribution:** Over thousands of rolls later, each face (1, 2, 3, 4, 5, 6) will appear roughly the same number of times. You won't observe that number '6' is appearing twice more than number '2'. The outcomes are evenly spread across the possible range.\n",
    "2. **Independence:** The result of your previous die roll has absolutely no bearing on the result of your next roll. If you just rolled a \"6\", it doesn't make it any more or less likely that your next roll will be a \"2\" or another \"6\". Each roll is independent of the others.\n",
    "3. **Unpredictability:** Before you physically roll the die, you cannot possibly know what number will land face up. Its outcome is inherently uncertain.\n",
    "\n",
    "A good PRNG algorithm aims to replicate these properties, generating a sequence that are stastically indistinguishable from truly random ones."
   ]
  },
  {
   "cell_type": "markdown",
   "id": "b804fb2a",
   "metadata": {},
   "source": [
    "# The Core Mechanism\n",
    "\n",
    "To understand PRNGs we need to understand 4 core concepts, most algorithms today use these core concepts.\n",
    "\n",
    "## Seed\n",
    "\n",
    "The algorithm starts with an initial value called the seed. This seed determines the entire sequence of numbers that will be generated. For a different sequence, you need a different seed. Often, the current time is used as a seed to make the sequences appear more random.\n",
    "\n",
    "## State\n",
    "\n",
    "The PRNG maintains an internal \"state\" that changes with each number generated. This state is the crucial input to the transformation function, and it is updated after each number is produced, becoming the basis for the next calculation.\n",
    "\n",
    "## Transformation Function\n",
    "\n",
    "A mathematical function is applied to the current state to produce the next pseudorandom number and update the internal state for the subsequent generation.\n",
    "\n",
    "## Period\n",
    "\n",
    "PRNGs eventually repeat their sequence of numbers. The length of this sequence before it repeats is called the \"period.\" A good PRNG has a very long period."
   ]
  },
  {
   "cell_type": "markdown",
   "id": "757089eb",
   "metadata": {},
   "source": [
    "# Common Types of PRNG algoritms:\n",
    "\n",
    "1. Linear Congruential Generators (LCGs): \n",
    "2. Mersenne Twister:\n",
    "3. XORShift Generators:\n",
    "4. Blum Blum Shub (BBS):"
   ]
  },
  {
   "cell_type": "markdown",
   "id": "1a883bc6",
   "metadata": {},
   "source": [
    "# Code\n",
    "Below is the python code that generates numbers using LCG algorithm. The formula I used to define the LCG algorithm is  \n",
    "\\begin{aligned}\n",
    "number = (multiplier*state + increment) \\% modulus\n",
    "\\end{aligned}"
   ]
  },
  {
   "cell_type": "code",
   "execution_count": 10,
   "id": "d7e67104",
   "metadata": {},
   "outputs": [
    {
     "name": "stdout",
     "output_type": "stream",
     "text": [
      "Number 1: 7\n",
      "Number 2: 8\n",
      "Number 3: 1\n",
      "Number 4: 0\n",
      "Number 5: 7\n",
      "Number 6: 8\n",
      "Number 7: 1\n",
      "Number 8: 0\n",
      "Number 9: 7\n"
     ]
    }
   ],
   "source": [
    "def generate_next_num(modulus, multiplier, increment, seed, length):\n",
    "    state = seed % modulus\n",
    "    for i in range(length):\n",
    "        state = (multiplier * state + increment) % modulus\n",
    "        print(f\"Number {i+1}: {state}\")\n",
    "    \n",
    "generate_next_num(10, 3, 7, 0, 9)"
   ]
  },
  {
   "cell_type": "markdown",
   "id": "d1b72988",
   "metadata": {},
   "source": [
    "In the above code I have made a function *generate_next_num*. The parameters of the functions are:  \n",
    "`(modulus, multiplier, increment, seed, length)`\n",
    "\n",
    "* `modulus`: This parameter defines the upper bound of the range of numbers the function will produce. Generally the largest known prime number is used as it sets the period very high.\n",
    "* `multiplier`: This parameter is used to set the value that is to be multiplied with the state to generate the random number.\n",
    "* `increment`: This parameter is used to set the value that is to be added with the results of the (multiplier * state).\n",
    "* `seed`: This parameter is used for reproduciblity of the random numbers generated.\n",
    "* `length`: This parameter defines the number of random numbers to be generated."
   ]
  },
  {
   "cell_type": "markdown",
   "id": "39188fd0",
   "metadata": {},
   "source": [
    "# Applications\n",
    "To be update"
   ]
  }
 ],
 "metadata": {
  "kernelspec": {
   "display_name": "base",
   "language": "python",
   "name": "python3"
  },
  "language_info": {
   "codemirror_mode": {
    "name": "ipython",
    "version": 3
   },
   "file_extension": ".py",
   "mimetype": "text/x-python",
   "name": "python",
   "nbconvert_exporter": "python",
   "pygments_lexer": "ipython3",
   "version": "3.12.7"
  }
 },
 "nbformat": 4,
 "nbformat_minor": 5
}
